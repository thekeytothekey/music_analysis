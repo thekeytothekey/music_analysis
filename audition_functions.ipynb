{
 "cells": [
  {
   "cell_type": "markdown",
   "metadata": {},
   "source": [
    "# Imports"
   ]
  },
  {
   "cell_type": "code",
   "execution_count": 4,
   "metadata": {},
   "outputs": [
    {
     "name": "stdout",
     "output_type": "stream",
     "text": [
      "pygame 2.1.3.dev8 (SDL 2.0.22, Python 3.11.0)\n",
      "Hello from the pygame community. https://www.pygame.org/contribute.html\n"
     ]
    }
   ],
   "source": [
    "import re\n",
    "import random\n",
    "\n",
    "from midiutil import MIDIFile\n",
    "\n",
    "import pygame\n",
    "import pygame.mixer\n",
    "from time import sleep"
   ]
  },
  {
   "cell_type": "markdown",
   "metadata": {},
   "source": [
    "# Utils"
   ]
  },
  {
   "cell_type": "code",
   "execution_count": 5,
   "metadata": {},
   "outputs": [],
   "source": [
    "def mergeDict(dict1, dict2):\n",
    "    dict3 = {**dict1, **dict2}\n",
    "    for key in dict3:\n",
    "        if key in dict1 and key in dict2:\n",
    "            dict3[key] = [dict1[key] , dict2[key]]\n",
    "    return dict3"
   ]
  },
  {
   "cell_type": "code",
   "execution_count": 6,
   "metadata": {},
   "outputs": [],
   "source": [
    "def unfoldDict(dict1):\n",
    "    dict2 = {}\n",
    "    for k,v in dict1.items():\n",
    "        if type(v)==list:\n",
    "            for vi in v:\n",
    "                dict2[vi]=k\n",
    "        else:\n",
    "            dict2[v]==k\n",
    "    return dict2"
   ]
  },
  {
   "cell_type": "markdown",
   "metadata": {},
   "source": [
    "# Vars\n",
    "\n",
    "### Alturas\n",
    "C0 = 0, C#0 = 1, ..., C1 = 12, ...\n",
    "\n",
    "### Duraciones (% del beat)\n",
    "En 4/4: blanca = 2, negra = 1, corchea = 0.5,...\n"
   ]
  },
  {
   "cell_type": "markdown",
   "metadata": {},
   "source": [
    "# Processes"
   ]
  },
  {
   "cell_type": "markdown",
   "metadata": {},
   "source": [
    "## Pitch conversor"
   ]
  },
  {
   "cell_type": "code",
   "execution_count": 7,
   "metadata": {},
   "outputs": [
    {
     "name": "stdout",
     "output_type": "stream",
     "text": [
      "The 61th pitch is ['c+5', 'd-5']\n",
      "The c+4 is the 49th pitch\n",
      "The d-4 is the 49th pitch\n",
      "The c4 is the 48th pitch\n",
      "The c-4 is the 59th pitch\n"
     ]
    }
   ],
   "source": [
    "# INITIAL VARS\n",
    "\n",
    "# Usual names with sharps\n",
    "pitches1 = [\"c\",\"c+\",\"d\",\"d+\",\"e\",\"f\",\"f+\",\"g\",\"g+\",\"a\",\"a+\",\"b\"]\n",
    "\n",
    "# Additional names\n",
    "pitches2 = ['b+','d-','d','e-','f-','e+','g-','g','a-','a','b-','c-']\n",
    "\n",
    "# Complete dicts\n",
    "pitch_number_2_name = mergeDict(dict(enumerate(pitches1)),dict(enumerate(pitches2)))\n",
    "\n",
    "pitch_name_2_number = unfoldDict(pitch_number_2_name)\n",
    "\n",
    "# FUNCTIONS\n",
    "\n",
    "def to_name(pitch_number):\n",
    "    if type(pitch_number)!=str:\n",
    "        return [v+str(pitch_number//12) for v in pitch_number_2_name[pitch_number%12]]\n",
    "    else:\n",
    "        return pitch_number\n",
    "\n",
    "def to_number(pitch_name):\n",
    "    if type(pitch_name)==str:\n",
    "        pitch_number = 12*int(re.findall(r\"\\d+\",pitch_name)[0])+pitch_name_2_number[re.findall(r\"\\D+\",pitch_name)[0]]\n",
    "        return pitch_number\n",
    "    else:\n",
    "        return pitch_name\n",
    "    \n",
    "# EXAMPLES\n",
    "    \n",
    "pitch_ex = 61\n",
    "pitch_ex_n1 = \"c+4\"\n",
    "pitch_ex_n2 = \"d-4\"\n",
    "\n",
    "print(\"The {}th pitch is {}\".format(pitch_ex,to_name(pitch_ex)))\n",
    "print(\"The {} is the {}th pitch\".format(pitch_ex_n1,to_number(pitch_ex_n1)))\n",
    "print(\"The {} is the {}th pitch\".format(pitch_ex_n2,to_number(pitch_ex_n2)))\n",
    "\n",
    "pitch_ex_n1 = \"c4\"\n",
    "pitch_ex_n2 = \"c-4\"\n",
    "\n",
    "print(\"The {} is the {}th pitch\".format(pitch_ex_n1,to_number(pitch_ex_n1)))\n",
    "print(\"The {} is the {}th pitch\".format(pitch_ex_n2,to_number(pitch_ex_n2)))"
   ]
  },
  {
   "cell_type": "markdown",
   "metadata": {},
   "source": [
    "## INTERVALS"
   ]
  },
  {
   "cell_type": "code",
   "execution_count": 9,
   "metadata": {
    "scrolled": false
   },
   "outputs": [
    {
     "name": "stdout",
     "output_type": "stream",
     "text": [
      "d-4\n",
      "b3\n"
     ]
    }
   ],
   "source": [
    "def pitch_after_interval(note, interval, int_type = 1):\n",
    "    '''\n",
    "    note = str as in pitch_name_2_number dict variable keys\n",
    "    interval = str as in intervals dict variable\n",
    "    int_type = int +1/-1 for ascendent/descendent interval type\n",
    "    '''  \n",
    "      \n",
    "    # Usual names and semitones for intervals\n",
    "    intervals = {k:i for i,k in enumerate(['1','b2','2','b3','3','4','#4','5','b6','6','b7','7'])}\n",
    "    # Extended list\n",
    "    intervals = {**intervals,**{'b1':-1,'#1':1,'#2':3,'#3':5,'b4':4,'b5':6,'#5':8,'#6':10,'#7':12}}\n",
    "    \n",
    "    # Notes\n",
    "    notes = 'abcdefg'\n",
    "    \n",
    "    # Possible final notes\n",
    "    interval_num = int(re.findall(r'\\d+',interval)[0])\n",
    "    interval_num_red = interval_num%7+7*(interval_num%7==0)\n",
    "    if interval[0] in ['b','#']:\n",
    "        interval_red = interval[0]+str(interval_num_red)\n",
    "    else:\n",
    "        interval_red = str(interval_num_red)\n",
    "    \n",
    "    final_note_list = to_name(to_number(note)+int_type*(intervals[interval_red]+12*(interval_num//8)))\n",
    "    final_note_name = notes[(notes.index(note[0])+int_type*(interval_num%7-1))%7]\n",
    "    \n",
    "    # Final note\n",
    "    for final_note in final_note_list:\n",
    "        if final_note_name in final_note:\n",
    "            return final_note\n",
    "    \n",
    "    if final_note_list[0]==final_note_list[1]:\n",
    "        return final_note_list[0]\n",
    "\n",
    "# EXAMPLES\n",
    "\n",
    "print(pitch_after_interval('c4','b2',1))\n",
    "print(pitch_after_interval('c4','b2',-1))"
   ]
  },
  {
   "cell_type": "markdown",
   "metadata": {},
   "source": [
    "### Funciona bien con ascendentes"
   ]
  },
  {
   "cell_type": "code",
   "execution_count": 10,
   "metadata": {
    "scrolled": true
   },
   "outputs": [
    {
     "name": "stdout",
     "output_type": "stream",
     "text": [
      "8\n",
      "b9\n",
      "#11\n"
     ]
    }
   ],
   "source": [
    "def interval_between_pitches(note_1, note_2):\n",
    "        \n",
    "    # Initial computations\n",
    "    note_1_num, note_2_num = to_number(note_1), to_number(note_2)\n",
    "    int_num = note_2_num - note_1_num\n",
    "    int_num_oct = int_num//12\n",
    "    int_num_red = int_num%12\n",
    "    \n",
    "    # Interval type\n",
    "    int_type = 1-2*(int_num < 0)\n",
    "    \n",
    "    # Usual names and semitones for intervals\n",
    "    intervals = {k:i for i,k in enumerate(['1','b2','2','b3','3','4','#4','5','b6','6','b7','7'])}\n",
    "    # Extended list\n",
    "    intervals = {**intervals,**{'b1':-1,'#1':1,'#2':3,'#3':5,'b4':4,'b5':6,'#5':8,'#6':10,'#7':12}}\n",
    "    \n",
    "    # Possible intervals\n",
    "    possible_intervals = []\n",
    "    for i,st in intervals.items():\n",
    "        if st == int_num_red:\n",
    "            poss_int_num_red = re.findall(r'\\D+',i)\n",
    "            poss_int_num = str(int(i[len(poss_int_num_red):])+int_num_oct*7)\n",
    "            if len(poss_int_num_red)!=0:\n",
    "                possible_intervals.append(i[0]+poss_int_num)\n",
    "            else:\n",
    "                possible_intervals.append(poss_int_num)\n",
    "                \n",
    "    # Loop\n",
    "    for poss_int in possible_intervals:\n",
    "        final_note = pitch_after_interval(note_1,poss_int,int_type)       \n",
    "        if note_2 == final_note:\n",
    "            return poss_int\n",
    "    return possible_intervals\n",
    "\n",
    "# EXAMPLES\n",
    "\n",
    "print(interval_between_pitches('c4','c5'))\n",
    "print(interval_between_pitches('c4','d-5'))\n",
    "print(interval_between_pitches('c4','f+5'))"
   ]
  },
  {
   "cell_type": "markdown",
   "metadata": {},
   "source": [
    "## CHORDS"
   ]
  },
  {
   "cell_type": "code",
   "execution_count": 11,
   "metadata": {
    "scrolled": true
   },
   "outputs": [
    {
     "name": "stdout",
     "output_type": "stream",
     "text": [
      "['c+4', 'e+4', 'a4']\n",
      "['d5', 'f+5', 'a5']\n",
      "['e3', 'g+3', 'b3', 'd+4']\n"
     ]
    }
   ],
   "source": [
    "chords = {'dim':['b3','b5'],'m':['b3','5'],'M':['3','5'],'aum':['3','#5'],\n",
    "          'dim7':['b3','b5','6'],'m7b5':['b3','b5','b7'],'m7':['b3','5','b7'],\n",
    "          'mM7':['b3','5','7'],'7':['3','5','b7'],'7sus4':['4','5','b7'],\n",
    "          'M7':['3','5','7'],'aum7':['3','#5','b7'],'M7#5':['3','#5','7']}\n",
    "\n",
    "def chord(root='c4', chord_type='M'):\n",
    "            \n",
    "    note_chords = [root]\n",
    "    \n",
    "    for interval in chords[chord_type]:\n",
    "        note_chords.append(pitch_after_interval(root, interval))\n",
    "    \n",
    "    return note_chords\n",
    "\n",
    "# EXAMPLE\n",
    "\n",
    "print(chord('c+4','aum'))\n",
    "print(chord('d5','M'))\n",
    "print(chord('e3','M7'))"
   ]
  },
  {
   "cell_type": "markdown",
   "metadata": {},
   "source": [
    "## SCALES"
   ]
  },
  {
   "cell_type": "code",
   "execution_count": 12,
   "metadata": {
    "scrolled": false
   },
   "outputs": [
    {
     "name": "stdout",
     "output_type": "stream",
     "text": [
      "['c5', 'd5', 'e5', 'f+5', 'g+5', 'a+5']\n",
      "['d4', 'c+4', 'b3', 'a3', 'g3', 'f+3', 'e3']\n",
      "['e3', 'f+3', 'g+3', 'a+3', 'b3', 'c+4', 'd4']\n"
     ]
    }
   ],
   "source": [
    "# INITIAL VARS\n",
    "\n",
    "pentatonic = {\"major\": ['2', '3', '5', '6'],\n",
    "              \"minor\": ['b3', '4', '5', 'b7']}\n",
    "hexatonic = {\"whole_tone\": ['2', '3', '#4', '#5', '#6']}\n",
    "lydian = {\"lydian\": ['2', '3', '#4', '5', '6', '7'],\n",
    "          \"lydian_dom\": ['2', '3', '#4', '5', '6', 'b7'],\n",
    "          \"lydian_augm\": ['2', '3', '#4', '#5', '6', '7']}\n",
    "major = {\"major\": ['2', '3', '4', '5', '6', '7'],\n",
    "         \"major_harm\": ['2', '3', '4', '5', 'b6', '7']}\n",
    "mixolydian = {\"mixolydian\": ['2', '3', '4', '5', '6', 'b7'],\n",
    "              \"mixolydian_b9\": ['b2', '3', '4', '5', '6', 'b7'],\n",
    "              \"mixolydian_b9b13\": ['b2', '3', '4', '5', 'b6', 'b7']}\n",
    "dorian = {\"dorian\": ['2', 'b3', '4', '5', '6', 'b7'],\n",
    "          \"dorian_b9\": ['b2', 'b3', '4', '5', '6', 'b7']}\n",
    "minor = {\"aeolian\": ['2', 'b3', '4', '5', 'b6', 'b7'],\n",
    "         \"minor_harm\": ['2', 'b3', '4', '5', 'b6', '7'],\n",
    "         \"minor_mel\": ['2', 'b3', '4', '5', '6', '7']}\n",
    "phrygian = {\"phrygian\": ['b2', 'b3', '4', '5', 'b6', 'b7']}\n",
    "locrian = {\"locrian\": ['b2', 'b3', '4', 'b5', 'b6', 'b7'],\n",
    "           \"locrian_n9\": ['2', 'b3', '4', 'b5', 'b6', 'b7'],\n",
    "           \"altered\": ['b2', 'b3', 'b4', 'b5', 'b6', 'b7']}\n",
    "octatonic = {\"hs_ws\": ['b2', 'b3', '3', '#4', '5', '6', 'b7'],\n",
    "             \"ws_hs\": ['2', 'b3', '4', 'b5', 'b6', '6', '7']}\n",
    "chromatic = {\"chromatic\": ['b2', '2', 'b3',\n",
    "                           '3', '4', '#4', '5', 'b6', '6', 'b7', '7']}\n",
    "\n",
    "scales_dict = {**pentatonic, **hexatonic, **lydian, **major, **mixolydian,\n",
    "               **dorian, **minor, **phrygian, **locrian, **octatonic, **chromatic}\n",
    "\n",
    "# FUNCTION\n",
    "\n",
    "\n",
    "def get_scale(root='c4', scale='major', scale_type=1):\n",
    "    '''\n",
    "    root = str for the root of the scale as in pitch_name_2_number dict variable keys\n",
    "    scale = str for the name of the scale as in scales_dict variable\n",
    "    scale_type = +1/-1 for ascendente/descendent\n",
    "    '''\n",
    "    scale_notes = [root]\n",
    "    if scale_type == 1:\n",
    "        for degree in scales_dict[scale]:\n",
    "            scale_notes.append(pitch_after_interval(root, degree))\n",
    "    else:\n",
    "        for degree in scales_dict[scale][::-1]:\n",
    "            scale_notes.append(pitch_after_interval(\n",
    "                pitch_after_interval(root, degree), '8', -1))\n",
    "    return scale_notes\n",
    "\n",
    "# EXAMPLES\n",
    "\n",
    "\n",
    "print(get_scale('c5', 'whole_tone'))\n",
    "print(get_scale('d4', 'major', -1))\n",
    "print(get_scale('e3', 'lydian_dom'))\n"
   ]
  },
  {
   "cell_type": "markdown",
   "metadata": {},
   "source": [
    "## DICTATES"
   ]
  },
  {
   "cell_type": "code",
   "execution_count": 13,
   "metadata": {
    "scrolled": true
   },
   "outputs": [
    {
     "name": "stdout",
     "output_type": "stream",
     "text": [
      "Done!\n"
     ]
    }
   ],
   "source": [
    "def dictate(root='c4',scale='chromatic',length=16,\n",
    "            durations=[0.5,1,1.5,2,3,4],tempo=75,\n",
    "            midi_fn='dictado.mid'):\n",
    "    \n",
    "    track    = 0\n",
    "    channel  = 0\n",
    "    time     = 0    \n",
    "    volume   = 127\n",
    "    \n",
    "    available_pitches = get_scale(root,scale)\n",
    "    pitches = [root]+random.choices(available_pitches,k=length)\n",
    "    durations = [4]+random.choices(durations,k=length)\n",
    "    \n",
    "    MyMIDI = MIDIFile(1)\n",
    "    MyMIDI.addTempo(track, time, tempo)\n",
    "    \n",
    "    for i, pitch in enumerate(pitches):\n",
    "        MyMIDI.addNote(track, channel, to_number(pitch), time, durations[i], volume)\n",
    "        time += durations[i]\n",
    "    \n",
    "    file_name = \"prueba_midi_dictado\"\n",
    "\n",
    "    with open(file_name, \"wb\") as output_file:\n",
    "        MyMIDI.writeFile(output_file)\n",
    "\n",
    "    pygame.init()\n",
    "    pygame.mixer.init()\n",
    "    pygame.mixer.music.load(file_name)\n",
    "    pygame.mixer.music.play()\n",
    "    while pygame.mixer.music.get_busy():\n",
    "        sleep(1)\n",
    "    print(\"Done!\")\n",
    "\n",
    "# EXAMPLE    \n",
    "\n",
    "dictate()"
   ]
  },
  {
   "cell_type": "code",
   "execution_count": 14,
   "metadata": {},
   "outputs": [
    {
     "name": "stdout",
     "output_type": "stream",
     "text": [
      "Done!\n"
     ]
    }
   ],
   "source": [
    "def play_melody(pitches, duration=1,tempo=75, midi_fn='play_melody.mid'):\n",
    "    \n",
    "    track    = 0\n",
    "    channel  = 0\n",
    "    time     = 0    \n",
    "    volume   = 127\n",
    "    \n",
    "    MyMIDI = MIDIFile(1)\n",
    "    MyMIDI.addTempo(track, time, tempo)\n",
    "    \n",
    "    for i, pitch in enumerate(pitches):\n",
    "        MyMIDI.addNote(track, channel, to_number(pitch), time, duration, volume)\n",
    "        time += duration\n",
    "    \n",
    "    file_name = \"prueba_midi_melodía\"   \n",
    "\n",
    "    with open(file_name, \"wb\") as output_file:\n",
    "        MyMIDI.writeFile(output_file)\n",
    "\n",
    "    pygame.init()\n",
    "    pygame.mixer.init()\n",
    "    pygame.mixer.music.load(file_name)\n",
    "    pygame.mixer.music.play()\n",
    "    while pygame.mixer.music.get_busy():\n",
    "        sleep(1)\n",
    "    print(\"Done!\")\n",
    "\n",
    "# EXAMPLE    \n",
    "\n",
    "play_melody([*chord('c4','m7b5'),*get_scale('d6','major',-1)])\n"
   ]
  },
  {
   "cell_type": "code",
   "execution_count": 15,
   "metadata": {},
   "outputs": [
    {
     "name": "stdout",
     "output_type": "stream",
     "text": [
      "Done!\n"
     ]
    }
   ],
   "source": [
    "def play_chords(chords_list, duration=4,tempo=75, midi_fn='play_chords.mid'):\n",
    "    \n",
    "    track    = 0\n",
    "    channel  = 0\n",
    "    time     = 0    \n",
    "    volume   = 127\n",
    "    \n",
    "    MyMIDI = MIDIFile(1)\n",
    "    MyMIDI.addTempo(track, time, tempo)\n",
    "    \n",
    "    for chord in chords_list:\n",
    "        for i, pitch in enumerate(chord):\n",
    "            MyMIDI.addNote(track, channel, to_number(pitch), time, duration, volume)\n",
    "        time += duration\n",
    "    \n",
    "    file_name = \"prueba_midi_acordes\"\n",
    "\n",
    "    with open(file_name, \"wb\") as output_file:\n",
    "        MyMIDI.writeFile(output_file)\n",
    "\n",
    "    pygame.init()\n",
    "    pygame.mixer.init()\n",
    "    pygame.mixer.music.load(file_name)\n",
    "    pygame.mixer.music.play()\n",
    "    while pygame.mixer.music.get_busy():\n",
    "        sleep(1)\n",
    "    print(\"Done!\")\n",
    "\n",
    "# EXAMPLE \n",
    "    \n",
    "play_chords([chord('c4','M7'),chord('e4','7'),chord('a4','m7'),\n",
    "            chord('d4','m7'),chord('g4','7sus4'),chord('g4','7'),\n",
    "            chord('c4','M7')])"
   ]
  }
 ],
 "metadata": {
  "kernelspec": {
   "display_name": "Python 3.11.0 64-bit",
   "language": "python",
   "name": "python3"
  },
  "language_info": {
   "codemirror_mode": {
    "name": "ipython",
    "version": 3
   },
   "file_extension": ".py",
   "mimetype": "text/x-python",
   "name": "python",
   "nbconvert_exporter": "python",
   "pygments_lexer": "ipython3",
   "version": "3.11.0"
  },
  "vscode": {
   "interpreter": {
    "hash": "aee8b7b246df8f9039afb4144a1f6fd8d2ca17a180786b69acc140d282b71a49"
   }
  }
 },
 "nbformat": 4,
 "nbformat_minor": 2
}
