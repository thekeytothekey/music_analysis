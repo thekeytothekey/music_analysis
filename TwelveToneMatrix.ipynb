{
  "nbformat": 4,
  "nbformat_minor": 0,
  "metadata": {
    "colab": {
      "provenance": []
    },
    "kernelspec": {
      "name": "python3",
      "display_name": "Python 3"
    },
    "language_info": {
      "name": "python"
    }
  },
  "cells": [
    {
      "cell_type": "markdown",
      "source": [
        "# Given a Twelve Tone Matrix this code generates an excel table that locates a series of chosen notes in that matrix (green = the note is present there, red = it is not)"
      ],
      "metadata": {
        "id": "oIdHfn79BsqI"
      }
    },
    {
      "cell_type": "code",
      "execution_count": null,
      "metadata": {
        "id": "DzFU9BwRAj7u"
      },
      "outputs": [],
      "source": [
        "import numpy as np\n",
        "import subprocess\n",
        "import pandas as pd\n",
        "class TwelveTone:\n",
        "    # Given twelve tone matrix (falta hacer una funcion que te genere la matriz)\n",
        "    matrix=np.array([\n",
        "    [\"Bb\",\"E\",\"Gb\",\"Eb\",\"F\",\"A\",\"D\",\"Db\",\"G\",\"Ab\",\"B\",\"C\"],\n",
        "    [\"E\",\"Bb\",\"C\",\"A\",\"B\",\"Eb\",\"Ab\",\"G\",\"Db\",\"D\",\"F\",\"Gb\"],\n",
        "    [\"D\",\"Ab\",\"Bb\",\"G\",\"A\",\"Db\",\"Gb\",\"F\",\"B\",\"C\",\"Eb\",\"E\"],\n",
        "    [\"F\",\"B\",\"Db\",\"Bb\",\"C\",\"E\",\"A\",\"Ab\",\"D\",\"Eb\",\"Gb\",\"G\"],\n",
        "    [\"Eb\",\"A\",\"B\",\"Ab\",\"Bb\",\"D\",\"G\",\"Gb\",\"C\",\"Db\",\"E\",\"F\"],\n",
        "    [\"B\",\"F\",\"G\",\"E\",\"Gb\",\"Bb\",\"Eb\",\"D\",\"Ab\",\"A\",\"C\",\"Db\"],\n",
        "    [\"Gb\",\"C\",\"D\",\"B\",\"Db\",\"F\",\"Bb\",\"A\",\"Eb\",\"E\",\"G\",\"Ab\"],\n",
        "    [\"G\",\"Db\",\"Eb\",\"C\",\"D\",\"Gb\",\"B\",\"Bb\",\"E\",\"F\",\"Ab\",\"A\"],\n",
        "    [\"Db\",\"G\",\"A\",\"Gb\",\"Ab\",\"C\",\"F\",\"E\",\"Bb\",\"B\",\"D\",\"Eb\"],\n",
        "    [\"C\",\"Gb\",\"Ab\",\"F\",\"G\",\"B\",\"E\",\"Eb\",\"A\",\"Bb\",\"Db\",\"D\"],\n",
        "    [\"A\",\"Eb\",\"F\",\"D\",\"E\",\"Ab\",\"Db\",\"C\",\"Gb\",\"G\",\"Bb\",\"B\"],\n",
        "    [\"Ab\",\"D\",\"E\",\"Db\",\"Eb\",\"G\",\"C\",\"B\",\"F\",\"Gb\",\"A\",\"Bb\"]])\n",
        "    matrix_transpose = matrix.transpose()\n",
        "    \n",
        "    #Notes that we want to search in the matrix\n",
        "    notes= np.array([\"G\", \"C\",\"Db\", \"B\",\"D\"])\n",
        "\n",
        "    mask=np.isin(matrix,notes)\n",
        "    maskc = pd.DataFrame(mask)\n",
        "    maskc.columns=['i0','i6','i8','i5','i7','i11','i4','i3','i9','i10','i1','i2']\n",
        "    maskc.index=['p0','p6','p4','p7','p5','p1','p8','p9','p3','p2','p11','p10']\n",
        "    def color_negative_red(val):\n",
        "        color = 'green' if val == True else 'red'\n",
        "        return 'background-color: %s' % color\n",
        "    datatoexcel = pd.ExcelWriter('df.xlsx')\n",
        "    \n",
        "\n",
        "    maskc.style.\\\n",
        "       applymap(color_negative_red).\\\n",
        "       to_excel(datatoexcel, sheet_name='Sheet1')\n",
        "    datatoexcel.save()"
      ]
    }
  ]
}